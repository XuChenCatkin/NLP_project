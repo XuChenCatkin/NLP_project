{
 "cells": [
  {
   "cell_type": "markdown",
   "metadata": {},
   "source": [
    "## Extraction the Harry Potter related entities\n",
    "\n",
    "- Characters: Harry Potter, Hermione Granger, Albus Dumbledore, etc.\n",
    "\n",
    "- Locations: Hogwarts, Diagon Alley, Hogsmeade, etc.\n",
    "\n",
    "- Organizations: Ministry of Magic, Order of the Phoenix, Death Eaters, etc.\n",
    "\n",
    "- Magical Objects: Elder Wand, Invisibility Cloak, Philosopher's Stone, etc.\n",
    "\n",
    "- Spells and Potions: Expelliarmus, Polyjuice Potion, etc.\n",
    "\n",
    "- Events: Triwizard Tournament, Battle of Hogwarts, etc.\n",
    "\n",
    "- Creatures: Hippogriff, Basilisk, Dementor, etc."
   ]
  },
  {
   "cell_type": "code",
   "execution_count": null,
   "metadata": {},
   "outputs": [],
   "source": [
    "import requests\n",
    "import re\n",
    "import pandas as pd\n",
    "import json\n",
    "from bs4 import BeautifulSoup"
   ]
  },
  {
   "cell_type": "code",
   "execution_count": 53,
   "metadata": {},
   "outputs": [],
   "source": [
    "# Characters\n",
    "characters = requests.get(\"https://hp-api.onrender.com/api/characters\").json()\n",
    "character_names = [character[\"name\"] for character in characters]\n",
    "with open('Character_Names.json', 'w') as file:\n",
    "    json.dump(character_names, file)\n"
   ]
  },
  {
   "cell_type": "code",
   "execution_count": 54,
   "metadata": {},
   "outputs": [
    {
     "name": "stdout",
     "output_type": "stream",
     "text": [
      "311\n"
     ]
    }
   ],
   "source": [
    "# Magical objects\n",
    "\n",
    "magical_objects_data = []\n",
    "url = \"https://harrypotter.fandom.com/wiki/Category:Magical_objects\"\n",
    "\n",
    "# Send GET request\n",
    "response = requests.get(url, headers=headers)\n",
    "response.raise_for_status()  # Check for HTTP errors\n",
    "\n",
    "\n",
    "soup = BeautifulSoup(response.text, 'html.parser')\n",
    "contents = soup.find_all('li', {'class': 'category-page__member'})\n",
    "for content in contents:\n",
    "    magical_object = content.text.strip()\n",
    "    magical_objects_data.append(magical_object)\n",
    "\n",
    "\n",
    "url = \"https://harrypotter.fandom.com/wiki/Category:Magical_objects?from=Omnioculars\"\n",
    "\n",
    "\n",
    "# Send GET request\n",
    "response = requests.get(url, headers=headers)\n",
    "response.raise_for_status()  # Check for HTTP errors\n",
    "\n",
    "\n",
    "soup = BeautifulSoup(response.text, 'html.parser')\n",
    "contents = soup.find_all('li', {'class': 'category-page__member'})\n",
    "for content in contents:\n",
    "    magical_object = content.text.strip()\n",
    "    magical_objects_data.append(magical_object)\n",
    "\n",
    "print(len(magical_objects_data))\n",
    "with open('Magical_Objects.json', 'w') as file:\n",
    "    json.dump(magical_objects_data, file)"
   ]
  },
  {
   "cell_type": "code",
   "execution_count": 55,
   "metadata": {},
   "outputs": [],
   "source": [
    "# Spells\n",
    "spells = requests.get(\"https://hp-api.onrender.com/api/spells\").json()\n",
    "spell_names = [spell[\"name\"] for spell in spells]\n",
    "with open('Spell_Names.json', 'w') as file:\n",
    "    json.dump(spell_names, file)"
   ]
  },
  {
   "cell_type": "code",
   "execution_count": 56,
   "metadata": {},
   "outputs": [
    {
     "name": "stdout",
     "output_type": "stream",
     "text": [
      "99\n",
      "['Ageing Potion', 'Alihotsy Draught', 'Amortentia', \"Angel's Trumpet Draught\", 'Anti-Paralysis Potion', 'Antidote to Common Poisons', 'Antidote to Uncommon Poisons', 'Antidote to Veritaserum', 'Armadillo Bile Mixture', 'Babbling Beverage', 'Baneberry Potion', \"Baruffio's Brain Elixir\", 'Beautification Potion', 'Befuddlement Draught', 'Beguiling Bubbles', 'Black Fire Potion', 'Blemish Blitzer', 'Blood-Replenishing Potion', 'Bloodroot Poison', 'Bruise removal paste', 'Bulgeye Potion', 'Bundimun Pomade', 'Bundimun Secretion', 'Burn-Healing Paste', 'Burning Bitterroot Balm', 'Draught of Living Death', 'Draught of Peace', 'Dreamless Sleep Potion', 'Drink of Despair', 'Drowsiness Draught', 'Edurus Potion', 'Elixir 7', 'Elixir of Life', 'Elixir to Induce Euphoria', 'Emerald Potion', 'Erumpent Potion', 'Everklena', 'Essence of Insanity', 'Everlasting Elixirs', 'Exploding Potion', 'Exstimulo Potion', 'Fake Protective Potions', 'Fatiguing Infusion', 'Felix Felicis', 'Fergus Fungal Budge', 'Fire-Breathing Potion', 'Fire Protection Potion', 'Flesh-Eating Slug Repellent', 'Focus Potion', 'Forgetfulness Potion', 'Frog Parts Mixture', 'Fungiface Potion', 'Hair-Dyeing Potion', 'Hair-Raising Potion', 'Hate Potion', 'Healing Potion', 'Heartbreak Teardrops', 'Herbicide Potion', 'Hiccoughing Solution', 'Laugh-inducing Potion', 'Laxative Potion', 'Love Potion', 'Love Potion Antidote', 'citation needed', \"Madame Glossy's Silver Polish\", 'Malevolent Mixture', 'Mandrake Restorative Draught', 'Manegro Potion', 'Maxima Potion', 'Maximum Turbo Farts Potion', 'Memory Potion', 'Moonseed Poison', 'Mopsus Potion', 'Mouth Itching Antidote', 'Muffling Draught', \"Mrs Scower's All-Purpose Magical Mess Remover\", 'Murtlap Essence', 'Pepperup Elixir', 'Pepperup Potion', 'Poison Antidote', 'Polyjuice Potion', \"Pomfrey's Pick-Me-Up\", 'Pompion Potion', 'Potion N. 220', 'Potion No. 07', 'Potion No. 113', 'Potion No. 86', 'Potion No. 329', 'Potion of All Potential', 'Potion of Invisibility', 'Ten-Second Pimple Vanisher', 'Thick golden potion', 'Thunderbrew', 'Tonic for Trace Detection', 'Truth Serum', 'Twilight Moonbeams', 'Veritaserum', 'Vitamix Potion', 'Volubilis Potion']\n"
     ]
    }
   ],
   "source": [
    "# Potions\n",
    "potions_data = []\n",
    "\n",
    "url = \"https://harrypotter.fandom.com/wiki/List_of_potions\"\n",
    "# Send GET request\n",
    "response = requests.get(url, headers=headers)\n",
    "response.raise_for_status()  # Check for HTTP errors\n",
    "soup = BeautifulSoup(response.text, 'html.parser')\n",
    "\n",
    "\n",
    "contents = soup.find_all('div', {'class':'wds-tab__content'})\n",
    "for content in contents:\n",
    "    for ul in content.find_all('ul',recursive=False):\n",
    "        potions = ul.find_all('li',recursive=False)\n",
    "        for potion in potions:\n",
    "            potions_data.append(potion.find('a').text.strip())\n",
    "       \n",
    "print(len(potions_data))\n",
    "print(potions_data)\n",
    "with open('Potions.json', 'w') as file:\n",
    "    json.dump(potions_data, file)\n"
   ]
  },
  {
   "cell_type": "code",
   "execution_count": 57,
   "metadata": {},
   "outputs": [
    {
     "name": "stdout",
     "output_type": "stream",
     "text": [
      "                   Section        Creature\n",
      "0                   Beasts     Acromantula\n",
      "1                   Beasts       Ashwinder\n",
      "2                   Beasts         Augurey\n",
      "3                   Beasts        Basilisk\n",
      "4                   Beasts        Billywig\n",
      "..                     ...             ...\n",
      "284  Magic related animals   Tropical bird\n",
      "285  Magic related animals  Tarantula hawk\n",
      "286  Magic related animals       Wild Boar\n",
      "287  Magic related animals        The Grim\n",
      "288  Magic related animals  The White Wolf\n",
      "\n",
      "[289 rows x 2 columns]\n"
     ]
    }
   ],
   "source": [
    "# creatures\n",
    "url = \"https://harrypotter.fandom.com/wiki/List_of_creatures\"\n",
    "\n",
    "\n",
    "# Send GET request\n",
    "response = requests.get(url, headers=headers)\n",
    "response.raise_for_status()  # Check for HTTP errors\n",
    "\n",
    "soup = BeautifulSoup(response.text, 'html.parser')\n",
    "content = soup.find('div', {'class': 'mw-parser-output'})\n",
    "\n",
    "creatures_data = []\n",
    "\n",
    "# Find all section headings (h2 with span.mw-headline)\n",
    "for section in content.find_all('h2'):\n",
    "    # Extract section title\n",
    "    headline = section.find('span', class_='mw-headline')\n",
    "    if not headline:\n",
    "        continue\n",
    "    \n",
    "    section_title = headline.text.strip()\n",
    "    # print(section_title)\n",
    "    \n",
    "    # Skip non-creature sections\n",
    "    if section_title == 'Notes and references':\n",
    "        continue\n",
    "    \n",
    "    # Find the corresponding creatures list\n",
    "    creatures_ul = section.find_next('ul', )\n",
    "    # print(creatures_ul)\n",
    "    if not creatures_ul:\n",
    "        continue\n",
    "    \n",
    "    # Extract creature names\n",
    "    for li in creatures_ul.find_all('li'):\n",
    "\n",
    "        li_ul = li.find_all('ul')\n",
    "        if li_ul:\n",
    "            for li_li in li_ul:\n",
    "                if isinstance(li_li, list):\n",
    "                    for sub_li in li_li.find_all('li'):\n",
    "                        creature = sub_li.text.strip()\n",
    "                        # Remove reference numbers like [1], [5], etc.\n",
    "                        creature = re.sub(r'\\[\\d+\\]', '', creature)\n",
    "                        creature = re.sub(r'\\s*\\(.*?\\)', '', creature)\n",
    "                        creatures_data.append({\n",
    "                            'Section': section_title,\n",
    "                            'Creature': creature\n",
    "                        })\n",
    "                else:\n",
    "                    creature = li_li.text.strip()\n",
    "                    # Remove reference numbers like [1], [5], etc.\n",
    "                    creature = re.sub(r'\\[\\d+\\]', '', creature)\n",
    "                    creature = re.sub(r'\\s*\\(.*?\\)', '', creature)\n",
    "                    creatures_data.append({\n",
    "                        'Section': section_title,\n",
    "                        'Creature': creature\n",
    "                    })\n",
    "            next\n",
    "        creature = li.text.strip()\n",
    "        # Remove reference numbers like [1], [5], etc.\n",
    "        creature = re.sub(r'\\[\\d+\\]', '', creature)\n",
    "        creature = re.sub(r'\\s*\\(.*?\\)', '', creature)\n",
    "        creatures_data.append({\n",
    "            'Section': section_title,\n",
    "            'Creature': creature\n",
    "        })\n",
    "\n",
    "# drop duplicates by \"Creature\" column\n",
    "creatures_df = pd.DataFrame(creatures_data)\n",
    "creatures_df.drop_duplicates(subset='Creature', inplace=True)\n",
    "creatures_df.reset_index(drop=True, inplace=True)\n",
    "creatures_df_cleaned = creatures_df[~creatures_df['Creature'].str.contains('\\n', na=False)]\n",
    "creatures_df_cleaned.reset_index(drop=True, inplace=True)\n",
    "print(creatures_df_cleaned)\n",
    "\n",
    "creatures_df_cleaned.to_json('Creatures.json', orient='records', lines=True)"
   ]
  },
  {
   "cell_type": "code",
   "execution_count": null,
   "metadata": {},
   "outputs": [],
   "source": []
  },
  {
   "cell_type": "code",
   "execution_count": null,
   "metadata": {},
   "outputs": [],
   "source": []
  }
 ],
 "metadata": {
  "kernelspec": {
   "display_name": "pytorch",
   "language": "python",
   "name": "python3"
  },
  "language_info": {
   "codemirror_mode": {
    "name": "ipython",
    "version": 3
   },
   "file_extension": ".py",
   "mimetype": "text/x-python",
   "name": "python",
   "nbconvert_exporter": "python",
   "pygments_lexer": "ipython3",
   "version": "3.12.4"
  }
 },
 "nbformat": 4,
 "nbformat_minor": 2
}
