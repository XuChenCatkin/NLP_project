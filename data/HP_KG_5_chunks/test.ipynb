{
 "cells": [
  {
   "cell_type": "code",
   "execution_count": 1,
   "metadata": {},
   "outputs": [],
   "source": [
    "import json"
   ]
  },
  {
   "cell_type": "code",
   "execution_count": 9,
   "metadata": {},
   "outputs": [],
   "source": [
    "with open(\"HP_KG_7_books.json\", \"r\", encoding=\"utf-8\") as f:\n",
    "    data = json.load(f)\n",
    "\n",
    "\n",
    "# Step 2: Convert to a dictionary with numbered integer keys\n",
    "def transform_to_numbered_dict(data):\n",
    "    return {i: item for i, item in enumerate(data, start=1)}\n",
    "\n",
    "numbered_data = transform_to_numbered_dict(data)\n",
    "\n",
    "# Step 3: Write the transformed data to a new JSON file\n",
    "with open(\"output.json\", \"w\", encoding=\"utf-8\") as f:\n",
    "    json.dump(numbered_data, f, indent=4)"
   ]
  }
 ],
 "metadata": {
  "kernelspec": {
   "display_name": "nlp_project",
   "language": "python",
   "name": "python3"
  },
  "language_info": {
   "codemirror_mode": {
    "name": "ipython",
    "version": 3
   },
   "file_extension": ".py",
   "mimetype": "text/x-python",
   "name": "python",
   "nbconvert_exporter": "python",
   "pygments_lexer": "ipython3",
   "version": "3.11.11"
  }
 },
 "nbformat": 4,
 "nbformat_minor": 2
}
